{
 "cells": [
  {
   "cell_type": "code",
   "execution_count": 35,
   "metadata": {},
   "outputs": [],
   "source": [
    "import pandas as pd\n",
    "import numpy as np"
   ]
  },
  {
   "cell_type": "code",
   "execution_count": 36,
   "metadata": {
    "scrolled": true
   },
   "outputs": [
    {
     "data": {
      "text/plain": [
       "'!\"#$%&\\'()*+,-./:;<=>?@[\\\\]^_`{|}~'"
      ]
     },
     "execution_count": 36,
     "metadata": {},
     "output_type": "execute_result"
    }
   ],
   "source": [
    "import re\n",
    "from nltk.sentiment.vader import SentimentIntensityAnalyzer as SIA\n",
    "import unicodedata\n",
    "import string\n",
    "import os\n",
    "import glob\n",
    "string.punctuation"
   ]
  },
  {
   "cell_type": "markdown",
   "metadata": {},
   "source": [
    "# Using `https://allafrica.com/`"
   ]
  },
  {
   "cell_type": "code",
   "execution_count": 18,
   "metadata": {},
   "outputs": [],
   "source": [
    "files = glob.glob(r'C:\\Users\\ilboudod\\CovidPerception\\Output\\*')\n",
    "for f in files:\n",
    "    os.remove(f)"
   ]
  },
  {
   "cell_type": "markdown",
   "metadata": {},
   "source": [
    "# TOPIC 1 : Vaccination"
   ]
  },
  {
   "cell_type": "code",
   "execution_count": 19,
   "metadata": {},
   "outputs": [],
   "source": [
    "data = pd.read_csv(r'C:\\Users\\ilboudod\\CovidPerception\\Files\\data_vac.csv', \n",
    "                   sep='\\t', \n",
    "                   encoding='iso-8859-1')"
   ]
  },
  {
   "cell_type": "code",
   "execution_count": 21,
   "metadata": {},
   "outputs": [],
   "source": [
    "Countries=['ALGERIA', 'ANGOLA', 'BENIN', 'BOTSWANA',\n",
    "       'BURKINA FASO', 'BURUNDI', 'CAMEROON', 'CABO VERDE',\n",
    "       'CENTRAL AFRICAN REPUBLIC', 'CHAD', 'COMOROS', 'REPUBLIC OF CONGO',\n",
    "       \"CÔTE D'IVOIRE\", 'DEMOCRATIC REPUBLIC OF CONGO',\n",
    "       'EQUATORIAL GUINEA', 'ERITREA', 'ETHIOPIA', 'GABON', 'GAMBIA',\n",
    "       'GHANA', 'GUINEA', 'GUINEA-BISSAU', 'KENYA', 'LESOTHO', 'LIBERIA',\n",
    "       'MADAGASCAR', 'MALAWI', 'MALI', 'MAURITANIA', 'MAURITIUS',\n",
    "       'MOZAMBIQUE', 'NAMIBIA', 'NIGER', 'NIGERIA', 'RWANDA',\n",
    "       'SÃO TOMÉ AND PRÍNCIPE', 'SENEGAL', 'SEYCHELLES', 'SIERRA LEONE',\n",
    "       'SOUTH AFRICA', 'SOUTH SUDAN', 'ESWATINI', 'TOGO', 'UGANDA',\n",
    "       'UNITED REPUBLIC OF TANZANIA', 'ZAMBIA', 'ZIMBABWE']\n",
    "CountryCode=['ALG', 'AGO', 'BEN', 'BWA', 'BFA', 'BDI', 'CMR', 'CPV',\n",
    "            'CAF', 'TCD', 'COM', 'COG', 'CIV', 'DRC', 'GNQ', 'ERI',\n",
    "            'ETH', 'GAB', 'GMB', 'GHA', 'GIN', 'GNB', 'KEN', 'LSO', \n",
    "            'LBR', 'MDG', 'MWI', 'MLI', 'MRT', 'MUS', 'MOZ', 'NAM',\n",
    "            'NER', 'NGA', 'RWA', 'STP', 'SEN', 'SYC', 'SLE', 'ZAF',\n",
    "            'SSD', 'SZ', 'TGO', 'UGA', 'TZA', 'ZMB', 'ZW']"
   ]
  },
  {
   "cell_type": "code",
   "execution_count": 22,
   "metadata": {},
   "outputs": [],
   "source": [
    "data['TitleL'] = data['Title'].str.lower()\n",
    "data['StorieL'] = data['Storie'].str.lower()\n",
    "CountryWithData = []\n",
    "CountryWithDataIndex = []\n",
    "CountryWithDatalen = []\n",
    "for country, code, i in zip(Countries, CountryCode, range(len(Countries))):\n",
    "    country = country.lower()\n",
    "    dtCountry = data[(data['StorieL'].str.contains(country)) | (data['TitleL'].str.contains(country))]\n",
    "    if (len(dtCountry)>0):\n",
    "        CountryWithData.append(Countries[i])\n",
    "        CountryWithDataIndex.append(i)\n",
    "        CountryWithDatalen.append(len(dtCountry))\n",
    "        globals()[\"data_vac_\" + code] = dtCountry\n",
    "    else:\n",
    "        globals()[\"data_vac_\" + code] = pd.DataFrame()"
   ]
  },
  {
   "cell_type": "code",
   "execution_count": 23,
   "metadata": {},
   "outputs": [],
   "source": [
    "dataSet = [data_vac_ALG,data_vac_AGO,data_vac_BEN,data_vac_BWA,data_vac_BFA,data_vac_BDI,data_vac_CMR,\n",
    "          data_vac_CPV,data_vac_CAF,data_vac_TCD,data_vac_COM,data_vac_COG,data_vac_CIV,data_vac_DRC,\n",
    "          data_vac_GNQ,data_vac_ERI,data_vac_ETH,data_vac_GAB,data_vac_GMB,data_vac_GHA,data_vac_GIN,\n",
    "          data_vac_GNB,data_vac_KEN,data_vac_LSO,data_vac_LBR,data_vac_MDG,data_vac_MWI,data_vac_MLI,\n",
    "          data_vac_MRT,data_vac_MUS,data_vac_MOZ,data_vac_NAM,data_vac_NER,data_vac_NGA,data_vac_RWA,\n",
    "          data_vac_STP,data_vac_SEN,data_vac_SYC,data_vac_SLE,data_vac_ZAF,data_vac_NAM,data_vac_SSD,\n",
    "          data_vac_SZ,data_vac_TGO,data_vac_UGA,data_vac_TZA,data_vac_ZMB,data_vac_ZW]"
   ]
  },
  {
   "cell_type": "markdown",
   "metadata": {},
   "source": [
    "#### Cleaning Content"
   ]
  },
  {
   "cell_type": "code",
   "execution_count": 24,
   "metadata": {
    "scrolled": true
   },
   "outputs": [],
   "source": [
    "#Remove Punctuation\n",
    "def remove_punct(txt):\n",
    "    txt  = \"\".join([char for char in txt if char not in string.punctuation])    \n",
    "    txt1 = re.sub('[0-9]+', '', txt)\n",
    "    #remove mentions@\n",
    "    txt1 = re.sub(r'@[A-Za-z0-9_]+', '', txt1)\n",
    "    # Remove hashtags\n",
    "    txt1 = re.sub(r'#', '', txt1)\n",
    "    url_pattern = re.compile(r'https?://\\S+|www\\.\\S+')\n",
    "    no_url = url_pattern.sub(r'', txt1)\n",
    "    text = (unicodedata.normalize('NFKD', no_url).encode('ascii', 'ignore').decode('utf-8', 'ignore'))\n",
    "    return text"
   ]
  },
  {
   "cell_type": "code",
   "execution_count": 25,
   "metadata": {},
   "outputs": [],
   "source": [
    "def SentimentAnalysisCountry(data, var, threshold):\n",
    "    \n",
    "    sid = SIA()\n",
    "    data['sentiments'] = data[var].apply(lambda x: sid.polarity_scores(' '.join(re.findall(r'\\w+',x))))\n",
    "\n",
    "    # Obtaining NLTK compound score\n",
    "    data['nltk_cmp_score'] = data['sentiments'].apply(lambda score_dict: score_dict['compound'])\n",
    "\n",
    "\n",
    "    data['Positive Sentiment'] = data['sentiments'].apply(lambda x: x['pos']+1*(10**-6)) \n",
    "    data['Neutral Sentiment'] = data['sentiments'].apply(lambda x: x['neu']+1*(10**-6))\n",
    "    data['Negative Sentiment'] = data['sentiments'].apply(lambda x: x['neg']+1*(10**-6))\n",
    "    \n",
    "    neutral_thresh = threshold\n",
    "    \n",
    "    # Categorize scores into the sentiments of positive, neutral or negative using compund\n",
    "    data['nltk_sentiment'] = data['nltk_cmp_score'].apply(lambda c: 'Positive' if c >= neutral_thresh else ('Negative' if c <= -(neutral_thresh) else 'Neutral'))\n",
    "    return data"
   ]
  },
  {
   "cell_type": "code",
   "execution_count": 26,
   "metadata": {},
   "outputs": [],
   "source": [
    "# Define function to get value counts\n",
    "def get_value_counts(data, col_name, countrie):\n",
    "    count = pd.DataFrame(data[col_name].value_counts())\n",
    "    percentage = pd.DataFrame(data[col_name].value_counts(normalize=True).mul(100))\n",
    "    value_counts_df = pd.concat([count, percentage], axis = 1)\n",
    "    value_counts_df = value_counts_df.reset_index()\n",
    "    value_counts_df.columns = ['sentiment', 'counts', 'percentage']\n",
    "    value_counts_df.sort_values('sentiment', inplace = True)\n",
    "    value_counts_df['percentage'] = value_counts_df['percentage'].apply(lambda x: round(x,2))\n",
    "    value_counts_df['Countrie'] = countrie\n",
    "    value_counts_df = value_counts_df.reset_index(drop = True)\n",
    "    return value_counts_df"
   ]
  },
  {
   "cell_type": "code",
   "execution_count": 37,
   "metadata": {},
   "outputs": [],
   "source": [
    "filePath = r'C:\\Users\\ilboudod\\CovidPerception\\Files\\vaccination.csv'\n",
    "\n",
    "if os.path.exists(filePath):\n",
    "    os.remove(filePath)"
   ]
  },
  {
   "cell_type": "code",
   "execution_count": 38,
   "metadata": {},
   "outputs": [
    {
     "name": "stderr",
     "output_type": "stream",
     "text": [
      "[nltk_data] Downloading package vader_lexicon to\n",
      "[nltk_data]     C:\\Users\\ilboudod\\AppData\\Roaming\\nltk_data...\n",
      "[nltk_data]   Package vader_lexicon is already up-to-date!\n"
     ]
    },
    {
     "data": {
      "text/plain": [
       "True"
      ]
     },
     "execution_count": 38,
     "metadata": {},
     "output_type": "execute_result"
    }
   ],
   "source": [
    "import nltk\n",
    "nltk.download('vader_lexicon')"
   ]
  },
  {
   "cell_type": "code",
   "execution_count": 39,
   "metadata": {},
   "outputs": [],
   "source": [
    "with open(r'C:\\Users\\ilboudod\\CovidPerception\\Files\\vaccination.csv','a') as f:\n",
    "    for countrie, code, dt in zip(Countries, CountryCode, dataSet):\n",
    "        try:\n",
    "            data = dt.copy()\n",
    "            data[\"Content\"] = data[['Title', 'Storie']].apply(lambda x: ' '.join(x), axis=1)\n",
    "            data = data[data.Storie.notna()]\n",
    "            data = data[data.Content.notna()]\n",
    "            data['Content_punct'] = data['Content'].apply(lambda x:remove_punct(x.lower()))\n",
    "            data_final = SentimentAnalysisCountry(data, 'Content_punct', 0.05)\n",
    "            nltk_sentiment_df = get_value_counts(data_final, 'nltk_sentiment', code)\n",
    "            f.write(f'Countrie: {countrie}')\n",
    "            f.write(\"\\n\")\n",
    "            nltk_sentiment_df.to_csv(f)\n",
    "            f.write(\"\\n\")\n",
    "        except:\n",
    "            f.write(f'Countrie: {countrie}')\n",
    "            f.write(\"\\n\")\n",
    "            f.write(\"\\n\")"
   ]
  },
  {
   "cell_type": "code",
   "execution_count": 40,
   "metadata": {
    "scrolled": false
   },
   "outputs": [],
   "source": [
    "data = pd.read_csv(r'C:\\Users\\ilboudod\\CovidPerception\\Files\\vaccination.csv', \n",
    "                   sep=',', \n",
    "                   encoding='iso-8859-1')"
   ]
  },
  {
   "cell_type": "code",
   "execution_count": 41,
   "metadata": {
    "scrolled": false
   },
   "outputs": [],
   "source": [
    "data = data.reset_index()\n",
    "data = data.set_axis(['Col_0','Col_1', 'Col_2', 'Col_3','Col_4'], axis='columns')\n",
    "data.drop('Col_0',axis=1, inplace=True)\n",
    "#data.head()"
   ]
  },
  {
   "cell_type": "code",
   "execution_count": 42,
   "metadata": {
    "scrolled": true
   },
   "outputs": [],
   "source": [
    "data.drop_duplicates(keep=False, inplace=True, ignore_index=True)\n",
    "#data.head()"
   ]
  },
  {
   "cell_type": "code",
   "execution_count": 43,
   "metadata": {
    "scrolled": true
   },
   "outputs": [],
   "source": [
    "data.rename(columns={'Col_1':'Sentiment', 'Col_2':'Counts', \n",
    "                     'Col_3':'Percentage', 'Col_4':'Countries'}, inplace = True)"
   ]
  },
  {
   "cell_type": "code",
   "execution_count": 49,
   "metadata": {},
   "outputs": [],
   "source": [
    "data['Counts'] = pd.to_numeric(data['Counts'])\n",
    "data['Percentage'] = pd.to_numeric(data['Percentage'])"
   ]
  },
  {
   "cell_type": "code",
   "execution_count": 50,
   "metadata": {},
   "outputs": [],
   "source": [
    "Table_counts = pd.pivot_table(data, values = 'Counts', \n",
    "                              index=['Countries'], columns = ['Sentiment'])\n",
    "#Table_counts"
   ]
  },
  {
   "cell_type": "code",
   "execution_count": 51,
   "metadata": {},
   "outputs": [],
   "source": [
    "Table_percentage = pd.pivot_table(data, values = 'Percentage', \n",
    "                                  index=['Countries'], columns = ['Sentiment'])\n",
    "#Table_percentage"
   ]
  },
  {
   "cell_type": "code",
   "execution_count": 52,
   "metadata": {},
   "outputs": [],
   "source": [
    "writer = pd.ExcelWriter(r'C:\\Users\\ilboudod\\CovidPerception\\Output\\Vaccination_counts.xlsx',engine='xlsxwriter')   # Creating Excel Writer Object from Pandas  \n",
    "Table_counts.to_excel(writer,sheet_name='Counts',startrow=0 , startcol=0)   \n",
    "writer.save()"
   ]
  },
  {
   "cell_type": "code",
   "execution_count": 53,
   "metadata": {},
   "outputs": [],
   "source": [
    "writer = pd.ExcelWriter(r'C:\\Users\\ilboudod\\CovidPerception\\Output\\Vaccination_percentage.xlsx',engine='xlsxwriter')   # Creating Excel Writer Object from Pandas  \n",
    "Table_percentage.to_excel(writer,sheet_name='Percentage',startrow=0 , startcol=0)   \n",
    "writer.save()"
   ]
  },
  {
   "cell_type": "code",
   "execution_count": null,
   "metadata": {},
   "outputs": [],
   "source": []
  }
 ],
 "metadata": {
  "kernelspec": {
   "display_name": "Python 3",
   "language": "python",
   "name": "python3"
  },
  "language_info": {
   "codemirror_mode": {
    "name": "ipython",
    "version": 3
   },
   "file_extension": ".py",
   "mimetype": "text/x-python",
   "name": "python",
   "nbconvert_exporter": "python",
   "pygments_lexer": "ipython3",
   "version": "3.8.5"
  }
 },
 "nbformat": 4,
 "nbformat_minor": 4
}
