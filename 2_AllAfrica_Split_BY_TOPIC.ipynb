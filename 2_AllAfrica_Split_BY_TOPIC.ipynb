{
 "cells": [
  {
   "cell_type": "code",
   "execution_count": 1,
   "metadata": {},
   "outputs": [],
   "source": [
    "import pandas as pd\n",
    "import numpy as np"
   ]
  },
  {
   "cell_type": "markdown",
   "metadata": {},
   "source": [
    "# Using `https://allafrica.com/`"
   ]
  },
  {
   "cell_type": "code",
   "execution_count": 2,
   "metadata": {},
   "outputs": [],
   "source": [
    "data = pd.read_csv(r'C:\\Users\\ilboudod\\CovidPerception\\Files\\dataFrom_allafrica_COVID_all_last.csv', sep='\\t', encoding='iso-8859-1')"
   ]
  },
  {
   "cell_type": "code",
   "execution_count": 3,
   "metadata": {},
   "outputs": [],
   "source": [
    "data['Date'] = data['link'].str.slice(9,17)"
   ]
  },
  {
   "cell_type": "code",
   "execution_count": 4,
   "metadata": {
    "scrolled": true
   },
   "outputs": [
    {
     "data": {
      "text/html": [
       "<div>\n",
       "<style scoped>\n",
       "    .dataframe tbody tr th:only-of-type {\n",
       "        vertical-align: middle;\n",
       "    }\n",
       "\n",
       "    .dataframe tbody tr th {\n",
       "        vertical-align: top;\n",
       "    }\n",
       "\n",
       "    .dataframe thead th {\n",
       "        text-align: right;\n",
       "    }\n",
       "</style>\n",
       "<table border=\"1\" class=\"dataframe\">\n",
       "  <thead>\n",
       "    <tr style=\"text-align: right;\">\n",
       "      <th></th>\n",
       "      <th>Title</th>\n",
       "      <th>Storie</th>\n",
       "      <th>link</th>\n",
       "      <th>Date</th>\n",
       "    </tr>\n",
       "  </thead>\n",
       "  <tbody>\n",
       "    <tr>\n",
       "      <th>0</th>\n",
       "      <td>Namibia: Small Businesses Can Be the Foundatio...</td>\n",
       "      <td>Trade minister Lucia Iipumbu said micro, small...</td>\n",
       "      <td>/stories/202202140525.html</td>\n",
       "      <td>20220214</td>\n",
       "    </tr>\n",
       "    <tr>\n",
       "      <th>1</th>\n",
       "      <td>Namibia: Broadcasters Urged to Scale Up Fact-C...</td>\n",
       "      <td>Deputy information minister Emma Theofelus has...</td>\n",
       "      <td>/stories/202202140503.html</td>\n",
       "      <td>20220214</td>\n",
       "    </tr>\n",
       "    <tr>\n",
       "      <th>2</th>\n",
       "      <td>Nigeria: FAAN Remits N16.7 Billion to Federati...</td>\n",
       "      <td>The Federal Airports Authority of Nigeria (FAA...</td>\n",
       "      <td>/stories/202202140449.html</td>\n",
       "      <td>20220214</td>\n",
       "    </tr>\n",
       "    <tr>\n",
       "      <th>3</th>\n",
       "      <td>South Africa: Self-Collected HPV Tests Feasibl...</td>\n",
       "      <td>An innovative new technology that allows women...</td>\n",
       "      <td>/stories/202202140380.html</td>\n",
       "      <td>20220214</td>\n",
       "    </tr>\n",
       "    <tr>\n",
       "      <th>4</th>\n",
       "      <td>South Africa: In-Depth On NHI - Common Themes ...</td>\n",
       "      <td>On Wednesday this week, it will be the 25th da...</td>\n",
       "      <td>/stories/202202140374.html</td>\n",
       "      <td>20220214</td>\n",
       "    </tr>\n",
       "  </tbody>\n",
       "</table>\n",
       "</div>"
      ],
      "text/plain": [
       "                                               Title  \\\n",
       "0  Namibia: Small Businesses Can Be the Foundatio...   \n",
       "1  Namibia: Broadcasters Urged to Scale Up Fact-C...   \n",
       "2  Nigeria: FAAN Remits N16.7 Billion to Federati...   \n",
       "3  South Africa: Self-Collected HPV Tests Feasibl...   \n",
       "4  South Africa: In-Depth On NHI - Common Themes ...   \n",
       "\n",
       "                                              Storie  \\\n",
       "0  Trade minister Lucia Iipumbu said micro, small...   \n",
       "1  Deputy information minister Emma Theofelus has...   \n",
       "2  The Federal Airports Authority of Nigeria (FAA...   \n",
       "3  An innovative new technology that allows women...   \n",
       "4  On Wednesday this week, it will be the 25th da...   \n",
       "\n",
       "                         link      Date  \n",
       "0  /stories/202202140525.html  20220214  \n",
       "1  /stories/202202140503.html  20220214  \n",
       "2  /stories/202202140449.html  20220214  \n",
       "3  /stories/202202140380.html  20220214  \n",
       "4  /stories/202202140374.html  20220214  "
      ]
     },
     "execution_count": 4,
     "metadata": {},
     "output_type": "execute_result"
    }
   ],
   "source": [
    "data.head()"
   ]
  },
  {
   "cell_type": "code",
   "execution_count": 5,
   "metadata": {},
   "outputs": [],
   "source": [
    "data['Date'] = pd.to_datetime(data['Date'], format = \"%Y%m%d\", errors = 'coerce')"
   ]
  },
  {
   "cell_type": "code",
   "execution_count": 6,
   "metadata": {},
   "outputs": [
    {
     "data": {
      "text/html": [
       "<div>\n",
       "<style scoped>\n",
       "    .dataframe tbody tr th:only-of-type {\n",
       "        vertical-align: middle;\n",
       "    }\n",
       "\n",
       "    .dataframe tbody tr th {\n",
       "        vertical-align: top;\n",
       "    }\n",
       "\n",
       "    .dataframe thead th {\n",
       "        text-align: right;\n",
       "    }\n",
       "</style>\n",
       "<table border=\"1\" class=\"dataframe\">\n",
       "  <thead>\n",
       "    <tr style=\"text-align: right;\">\n",
       "      <th></th>\n",
       "      <th>Title</th>\n",
       "      <th>Storie</th>\n",
       "      <th>link</th>\n",
       "      <th>Date</th>\n",
       "    </tr>\n",
       "  </thead>\n",
       "  <tbody>\n",
       "    <tr>\n",
       "      <th>0</th>\n",
       "      <td>Namibia: Small Businesses Can Be the Foundatio...</td>\n",
       "      <td>Trade minister Lucia Iipumbu said micro, small...</td>\n",
       "      <td>/stories/202202140525.html</td>\n",
       "      <td>2022-02-14</td>\n",
       "    </tr>\n",
       "    <tr>\n",
       "      <th>1</th>\n",
       "      <td>Namibia: Broadcasters Urged to Scale Up Fact-C...</td>\n",
       "      <td>Deputy information minister Emma Theofelus has...</td>\n",
       "      <td>/stories/202202140503.html</td>\n",
       "      <td>2022-02-14</td>\n",
       "    </tr>\n",
       "    <tr>\n",
       "      <th>2</th>\n",
       "      <td>Nigeria: FAAN Remits N16.7 Billion to Federati...</td>\n",
       "      <td>The Federal Airports Authority of Nigeria (FAA...</td>\n",
       "      <td>/stories/202202140449.html</td>\n",
       "      <td>2022-02-14</td>\n",
       "    </tr>\n",
       "    <tr>\n",
       "      <th>3</th>\n",
       "      <td>South Africa: Self-Collected HPV Tests Feasibl...</td>\n",
       "      <td>An innovative new technology that allows women...</td>\n",
       "      <td>/stories/202202140380.html</td>\n",
       "      <td>2022-02-14</td>\n",
       "    </tr>\n",
       "    <tr>\n",
       "      <th>4</th>\n",
       "      <td>South Africa: In-Depth On NHI - Common Themes ...</td>\n",
       "      <td>On Wednesday this week, it will be the 25th da...</td>\n",
       "      <td>/stories/202202140374.html</td>\n",
       "      <td>2022-02-14</td>\n",
       "    </tr>\n",
       "  </tbody>\n",
       "</table>\n",
       "</div>"
      ],
      "text/plain": [
       "                                               Title  \\\n",
       "0  Namibia: Small Businesses Can Be the Foundatio...   \n",
       "1  Namibia: Broadcasters Urged to Scale Up Fact-C...   \n",
       "2  Nigeria: FAAN Remits N16.7 Billion to Federati...   \n",
       "3  South Africa: Self-Collected HPV Tests Feasibl...   \n",
       "4  South Africa: In-Depth On NHI - Common Themes ...   \n",
       "\n",
       "                                              Storie  \\\n",
       "0  Trade minister Lucia Iipumbu said micro, small...   \n",
       "1  Deputy information minister Emma Theofelus has...   \n",
       "2  The Federal Airports Authority of Nigeria (FAA...   \n",
       "3  An innovative new technology that allows women...   \n",
       "4  On Wednesday this week, it will be the 25th da...   \n",
       "\n",
       "                         link       Date  \n",
       "0  /stories/202202140525.html 2022-02-14  \n",
       "1  /stories/202202140503.html 2022-02-14  \n",
       "2  /stories/202202140449.html 2022-02-14  \n",
       "3  /stories/202202140380.html 2022-02-14  \n",
       "4  /stories/202202140374.html 2022-02-14  "
      ]
     },
     "execution_count": 6,
     "metadata": {},
     "output_type": "execute_result"
    }
   ],
   "source": [
    "data.head()"
   ]
  },
  {
   "cell_type": "markdown",
   "metadata": {},
   "source": [
    "# TOPIC 1 : Vaccination"
   ]
  },
  {
   "cell_type": "markdown",
   "metadata": {},
   "source": [
    "`Keywords` : First dose, second dose, covid 19, COVID19, COVID-19, SARS-CoV-2, corona virus, covid jab, Pfizer, astra, astrazeneca, covax, moderna, sinovac, sinopharm side effects, covid 5G, antivax, priority groups"
   ]
  },
  {
   "cell_type": "code",
   "execution_count": 7,
   "metadata": {},
   "outputs": [],
   "source": [
    "keywords = ['First dose', 'second dose', 'covid 19', 'COVID19', 'COVID-19', 'SARS-CoV-2', 'corona virus', \n",
    "            'covid jab', 'Pfizer', 'astra', 'astrazeneca', 'covax', 'moderna', 'sinovac', 'sinopharm side effects', \n",
    "            'covid 5G', 'antivax', 'priority groups']"
   ]
  },
  {
   "cell_type": "code",
   "execution_count": 8,
   "metadata": {},
   "outputs": [],
   "source": [
    "data['TitleL'] = data['Title'].str.lower()\n",
    "data['StorieL'] = data['Storie'].str.lower()\n",
    "data_vac = pd.DataFrame()\n",
    "for kw in keywords:\n",
    "    kw = kw.lower()\n",
    "    dtCountry = data[(data['StorieL'].str.contains(kw)) | (data['TitleL'].str.contains(kw))]\n",
    "    if (len(dtCountry)>0):\n",
    "        data_vac = pd.concat([data_vac, dtCountry], ignore_index=False)\n",
    "data_vac.drop_duplicates(keep = 'first', inplace = True)"
   ]
  },
  {
   "cell_type": "code",
   "execution_count": 9,
   "metadata": {
    "scrolled": true
   },
   "outputs": [],
   "source": [
    "#data_vac.head()"
   ]
  },
  {
   "cell_type": "code",
   "execution_count": 10,
   "metadata": {},
   "outputs": [
    {
     "data": {
      "text/plain": [
       "(34383, 6)"
      ]
     },
     "execution_count": 10,
     "metadata": {},
     "output_type": "execute_result"
    }
   ],
   "source": [
    "data_vac.shape"
   ]
  },
  {
   "cell_type": "code",
   "execution_count": null,
   "metadata": {},
   "outputs": [],
   "source": []
  },
  {
   "cell_type": "markdown",
   "metadata": {},
   "source": [
    "# TOPIC 2 : Case management"
   ]
  },
  {
   "cell_type": "markdown",
   "metadata": {},
   "source": [
    "`Keywords` : frontline workers, ICU, oxygen, quarantine, fly and test, drug authority, ICU beds, face masks, protective equipment, PPE, immunity, covid recovery, covid deaths, critical condition, sanitizer, hospitalization, self isolation, temperature, ventilators, pcr, rapid test, covid-19 treatment, immunity boost, booster"
   ]
  },
  {
   "cell_type": "code",
   "execution_count": 11,
   "metadata": {},
   "outputs": [],
   "source": [
    "keywords = ['frontline workers', 'ICU', 'oxygen', 'quarantine', 'fly and test', 'drug authority', \n",
    "            'ICU beds', 'face masks', 'protective equipment', 'PPE', 'immunity', 'covid recovery', \n",
    "            'covid deaths', 'critical condition', 'sanitizer', 'hospitalization', 'self isolation', \n",
    "            'temperature', 'ventilators', 'pcr', 'rapid test', 'covid-19 treatment', 'immunity boost', \n",
    "            'booster']"
   ]
  },
  {
   "cell_type": "code",
   "execution_count": 12,
   "metadata": {},
   "outputs": [],
   "source": [
    "data['TitleL'] = data['Title'].str.lower()\n",
    "data['StorieL'] = data['Storie'].str.lower()\n",
    "data_caseM = pd.DataFrame()\n",
    "for kw in keywords:\n",
    "    kw = kw.lower()\n",
    "    dtCountry = data[(data['StorieL'].str.contains(kw)) | (data['TitleL'].str.contains(kw))]\n",
    "    if (len(dtCountry)>0):\n",
    "        data_caseM = pd.concat([data_caseM, dtCountry], ignore_index=False)\n",
    "data_caseM.drop_duplicates(keep = 'first', inplace = True)"
   ]
  },
  {
   "cell_type": "code",
   "execution_count": 13,
   "metadata": {
    "scrolled": true
   },
   "outputs": [],
   "source": [
    "#data_caseM.head()"
   ]
  },
  {
   "cell_type": "code",
   "execution_count": 14,
   "metadata": {},
   "outputs": [
    {
     "data": {
      "text/plain": [
       "(21311, 6)"
      ]
     },
     "execution_count": 14,
     "metadata": {},
     "output_type": "execute_result"
    }
   ],
   "source": [
    "data_caseM.shape"
   ]
  },
  {
   "cell_type": "code",
   "execution_count": null,
   "metadata": {},
   "outputs": [],
   "source": []
  },
  {
   "cell_type": "markdown",
   "metadata": {},
   "source": [
    "# TOPIC 3 : Non-Pharmaceutical measures"
   ]
  },
  {
   "cell_type": "markdown",
   "metadata": {},
   "source": [
    "`Keywords` : COVID, Pandemic, hand washing, lockdown, quarantine, curfew, social distancing, temperature, teleworking, closure of schools, mask, Suspension of Religious activities, Suspension of Domestic travels, Total refusal of entry for all foreign nationals, Closure of restaurants and bars, Refusal for high risk countries, Visa Refusal, Suspension of sporting activities, gathering restriction"
   ]
  },
  {
   "cell_type": "code",
   "execution_count": 15,
   "metadata": {},
   "outputs": [],
   "source": [
    "keywords = ['Pandemic', 'hand washing', 'lockdown', 'quarantine', 'curfew', 'social distancing', \n",
    "            'temperature', 'teleworking', 'closure of schools', 'mask', 'Suspension of Religious activities', \n",
    "            'Suspension of Domestic travels', 'Total refusal of entry for all foreign nationals', \n",
    "            'Closure of restaurants and bars', 'Refusal for high risk countries', 'Visa Refusal', \n",
    "            'Suspension of sporting activities', 'gathering restriction']"
   ]
  },
  {
   "cell_type": "code",
   "execution_count": 16,
   "metadata": {},
   "outputs": [],
   "source": [
    "data['TitleL'] = data['Title'].str.lower()\n",
    "data['StorieL'] = data['Storie'].str.lower()\n",
    "data_NPMeasures = pd.DataFrame()\n",
    "for kw in keywords:\n",
    "    kw = kw.lower()\n",
    "    dtCountry = data[(data['StorieL'].str.contains(kw)) | (data['TitleL'].str.contains(kw))]\n",
    "    if (len(dtCountry)>0):\n",
    "        data_NPMeasures = pd.concat([data_NPMeasures, dtCountry], ignore_index=False)\n",
    "data_NPMeasures.drop_duplicates(keep = 'first', inplace = True)"
   ]
  },
  {
   "cell_type": "code",
   "execution_count": 17,
   "metadata": {
    "scrolled": true
   },
   "outputs": [],
   "source": [
    "#data_NPMeasures.head()"
   ]
  },
  {
   "cell_type": "code",
   "execution_count": 18,
   "metadata": {},
   "outputs": [
    {
     "data": {
      "text/plain": [
       "(23165, 6)"
      ]
     },
     "execution_count": 18,
     "metadata": {},
     "output_type": "execute_result"
    }
   ],
   "source": [
    "data_NPMeasures.shape"
   ]
  },
  {
   "cell_type": "code",
   "execution_count": null,
   "metadata": {},
   "outputs": [],
   "source": []
  },
  {
   "cell_type": "code",
   "execution_count": 19,
   "metadata": {},
   "outputs": [],
   "source": [
    "data_vac.to_csv(r'C:\\Users\\ilboudod\\CovidPerception\\Files\\data_vac.csv', sep = '\\t', index=False)"
   ]
  },
  {
   "cell_type": "code",
   "execution_count": 20,
   "metadata": {},
   "outputs": [],
   "source": [
    "data_caseM.to_csv(r'C:\\Users\\ilboudod\\CovidPerception\\Files\\data_caseM.csv', sep = '\\t', index=False)"
   ]
  },
  {
   "cell_type": "code",
   "execution_count": 21,
   "metadata": {},
   "outputs": [],
   "source": [
    "data_NPMeasures.to_csv(r'C:\\Users\\ilboudod\\CovidPerception\\Files\\data_NPMeasures.csv', sep = '\\t', index=False)"
   ]
  },
  {
   "cell_type": "code",
   "execution_count": null,
   "metadata": {},
   "outputs": [],
   "source": []
  }
 ],
 "metadata": {
  "kernelspec": {
   "display_name": "Python 3",
   "language": "python",
   "name": "python3"
  },
  "language_info": {
   "codemirror_mode": {
    "name": "ipython",
    "version": 3
   },
   "file_extension": ".py",
   "mimetype": "text/x-python",
   "name": "python",
   "nbconvert_exporter": "python",
   "pygments_lexer": "ipython3",
   "version": "3.8.5"
  }
 },
 "nbformat": 4,
 "nbformat_minor": 4
}
