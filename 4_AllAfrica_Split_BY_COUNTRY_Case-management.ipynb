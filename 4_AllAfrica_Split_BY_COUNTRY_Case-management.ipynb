{
 "cells": [
  {
   "cell_type": "code",
   "execution_count": 1,
   "metadata": {},
   "outputs": [],
   "source": [
    "import pandas as pd\n",
    "import numpy as np"
   ]
  },
  {
   "cell_type": "code",
   "execution_count": 2,
   "metadata": {
    "scrolled": true
   },
   "outputs": [
    {
     "data": {
      "text/plain": [
       "'!\"#$%&\\'()*+,-./:;<=>?@[\\\\]^_`{|}~'"
      ]
     },
     "execution_count": 2,
     "metadata": {},
     "output_type": "execute_result"
    }
   ],
   "source": [
    "import re\n",
    "from nltk.sentiment.vader import SentimentIntensityAnalyzer as SIA\n",
    "import unicodedata\n",
    "import string\n",
    "import os\n",
    "import glob\n",
    "string.punctuation"
   ]
  },
  {
   "cell_type": "code",
   "execution_count": 3,
   "metadata": {},
   "outputs": [
    {
     "name": "stderr",
     "output_type": "stream",
     "text": [
      "[nltk_data] Downloading package vader_lexicon to\n",
      "[nltk_data]     C:\\Users\\ilboudod\\AppData\\Roaming\\nltk_data...\n",
      "[nltk_data]   Package vader_lexicon is already up-to-date!\n"
     ]
    },
    {
     "data": {
      "text/plain": [
       "True"
      ]
     },
     "execution_count": 3,
     "metadata": {},
     "output_type": "execute_result"
    }
   ],
   "source": [
    "import nltk\n",
    "nltk.download('vader_lexicon')"
   ]
  },
  {
   "cell_type": "markdown",
   "metadata": {},
   "source": [
    "# Using `https://allafrica.com/`"
   ]
  },
  {
   "cell_type": "markdown",
   "metadata": {},
   "source": [
    "# TOPIC 2 : Case management"
   ]
  },
  {
   "cell_type": "code",
   "execution_count": 4,
   "metadata": {},
   "outputs": [],
   "source": [
    "data = pd.read_csv(r'C:\\Users\\ilboudod\\CovidPerception\\Files\\data_caseM.csv', \n",
    "                   sep='\\t', \n",
    "                   encoding='iso-8859-1')"
   ]
  },
  {
   "cell_type": "code",
   "execution_count": 5,
   "metadata": {},
   "outputs": [],
   "source": [
    "Countries=['ALGERIA', 'ANGOLA', 'BENIN', 'BOTSWANA',\n",
    "       'BURKINA FASO', 'BURUNDI', 'CAMEROON', 'CABO VERDE',\n",
    "       'CENTRAL AFRICAN REPUBLIC', 'CHAD', 'COMOROS', 'REPUBLIC OF CONGO',\n",
    "       \"CÔTE D'IVOIRE\", 'DEMOCRATIC REPUBLIC OF CONGO',\n",
    "       'EQUATORIAL GUINEA', 'ERITREA', 'ETHIOPIA', 'GABON', 'GAMBIA',\n",
    "       'GHANA', 'GUINEA', 'GUINEA-BISSAU', 'KENYA', 'LESOTHO', 'LIBERIA',\n",
    "       'MADAGASCAR', 'MALAWI', 'MALI', 'MAURITANIA', 'MAURITIUS',\n",
    "       'MOZAMBIQUE', 'NAMIBIA', 'NIGER', 'NIGERIA', 'RWANDA',\n",
    "       'SÃO TOMÉ AND PRÍNCIPE', 'SENEGAL', 'SEYCHELLES', 'SIERRA LEONE',\n",
    "       'SOUTH AFRICA', 'SOUTH SUDAN', 'ESWATINI', 'TOGO', 'UGANDA',\n",
    "       'UNITED REPUBLIC OF TANZANIA', 'ZAMBIA', 'ZIMBABWE']\n",
    "CountryCode=['ALG', 'AGO', 'BEN', 'BWA', 'BFA', 'BDI', 'CMR', 'CPV',\n",
    "            'CAF', 'TCD', 'COM', 'COG', 'CIV', 'DRC', 'GNQ', 'ERI',\n",
    "            'ETH', 'GAB', 'GMB', 'GHA', 'GIN', 'GNB', 'KEN', 'LSO', \n",
    "            'LBR', 'MDG', 'MWI', 'MLI', 'MRT', 'MUS', 'MOZ', 'NAM',\n",
    "            'NER', 'NGA', 'RWA', 'STP', 'SEN', 'SYC', 'SLE', 'ZAF',\n",
    "            'SSD', 'SZ', 'TGO', 'UGA', 'TZA', 'ZMB', 'ZW']"
   ]
  },
  {
   "cell_type": "code",
   "execution_count": 6,
   "metadata": {},
   "outputs": [],
   "source": [
    "data['TitleL'] = data['Title'].str.lower()\n",
    "data['StorieL'] = data['Storie'].str.lower()\n",
    "CountryWithData = []\n",
    "CountryWithDataIndex = []\n",
    "CountryWithDatalen = []\n",
    "for country, code, i in zip(Countries, CountryCode, range(len(Countries))):\n",
    "    country = country.lower()\n",
    "    dtCountry = data[(data['StorieL'].str.contains(country)) | (data['TitleL'].str.contains(country))]\n",
    "    if (len(dtCountry)>0):\n",
    "        CountryWithData.append(Countries[i])\n",
    "        CountryWithDataIndex.append(i)\n",
    "        CountryWithDatalen.append(len(dtCountry))\n",
    "        globals()[\"data_caseM_\" + code] = dtCountry\n",
    "    else:\n",
    "        globals()[\"data_caseM_\" + code] = pd.DataFrame()"
   ]
  },
  {
   "cell_type": "code",
   "execution_count": 7,
   "metadata": {},
   "outputs": [],
   "source": [
    "dataSet = [data_caseM_ALG,data_caseM_AGO,data_caseM_BEN,data_caseM_BWA,data_caseM_BFA,data_caseM_BDI,data_caseM_CMR,\n",
    "          data_caseM_CPV,data_caseM_CAF,data_caseM_TCD,data_caseM_COM,data_caseM_COG,data_caseM_CIV,data_caseM_DRC,\n",
    "          data_caseM_GNQ,data_caseM_ERI,data_caseM_ETH,data_caseM_GAB,data_caseM_GMB,data_caseM_GHA,data_caseM_GIN,\n",
    "          data_caseM_GNB,data_caseM_KEN,data_caseM_LSO,data_caseM_LBR,data_caseM_MDG,data_caseM_MWI,data_caseM_MLI,\n",
    "          data_caseM_MRT,data_caseM_MUS,data_caseM_MOZ,data_caseM_NAM,data_caseM_NER,data_caseM_NGA,data_caseM_RWA,\n",
    "          data_caseM_STP,data_caseM_SEN,data_caseM_SYC,data_caseM_SLE,data_caseM_ZAF,data_caseM_NAM,data_caseM_SSD,\n",
    "          data_caseM_SZ,data_caseM_TGO,data_caseM_UGA,data_caseM_TZA,data_caseM_ZMB,data_caseM_ZW]"
   ]
  },
  {
   "cell_type": "markdown",
   "metadata": {},
   "source": [
    "#### Cleaning Content"
   ]
  },
  {
   "cell_type": "code",
   "execution_count": 8,
   "metadata": {
    "scrolled": true
   },
   "outputs": [],
   "source": [
    "#Remove Punctuation\n",
    "def remove_punct(txt):\n",
    "    txt  = \"\".join([char for char in txt if char not in string.punctuation])    \n",
    "    txt1 = re.sub('[0-9]+', '', txt)\n",
    "    #remove mentions@\n",
    "    txt1 = re.sub(r'@[A-Za-z0-9_]+', '', txt1)\n",
    "    # Remove hashtags\n",
    "    txt1 = re.sub(r'#', '', txt1)\n",
    "    url_pattern = re.compile(r'https?://\\S+|www\\.\\S+')\n",
    "    no_url = url_pattern.sub(r'', txt1)\n",
    "    text = (unicodedata.normalize('NFKD', no_url).encode('ascii', 'ignore').decode('utf-8', 'ignore'))\n",
    "    return text"
   ]
  },
  {
   "cell_type": "code",
   "execution_count": 9,
   "metadata": {},
   "outputs": [],
   "source": [
    "def SentimentAnalysisCountry(data, var, threshold):\n",
    "    \n",
    "    sid = SIA()\n",
    "    data['sentiments'] = data[var].apply(lambda x: sid.polarity_scores(' '.join(re.findall(r'\\w+',x))))\n",
    "\n",
    "    # Obtaining NLTK compound score\n",
    "    data['nltk_cmp_score'] = data['sentiments'].apply(lambda score_dict: score_dict['compound'])\n",
    "\n",
    "\n",
    "    data['Positive Sentiment'] = data['sentiments'].apply(lambda x: x['pos']+1*(10**-6)) \n",
    "    data['Neutral Sentiment'] = data['sentiments'].apply(lambda x: x['neu']+1*(10**-6))\n",
    "    data['Negative Sentiment'] = data['sentiments'].apply(lambda x: x['neg']+1*(10**-6))\n",
    "    \n",
    "    neutral_thresh = threshold\n",
    "    \n",
    "    # Categorize scores into the sentiments of positive, neutral or negative using compund\n",
    "    data['nltk_sentiment'] = data['nltk_cmp_score'].apply(lambda c: 'Positive' if c >= neutral_thresh else ('Negative' if c <= -(neutral_thresh) else 'Neutral'))\n",
    "    return data"
   ]
  },
  {
   "cell_type": "code",
   "execution_count": 10,
   "metadata": {},
   "outputs": [],
   "source": [
    "# Define function to get value counts\n",
    "def get_value_counts(data, col_name, countrie):\n",
    "    count = pd.DataFrame(data[col_name].value_counts())\n",
    "    percentage = pd.DataFrame(data[col_name].value_counts(normalize=True).mul(100))\n",
    "    value_counts_df = pd.concat([count, percentage], axis = 1)\n",
    "    value_counts_df = value_counts_df.reset_index()\n",
    "    value_counts_df.columns = ['sentiment', 'counts', 'percentage']\n",
    "    value_counts_df.sort_values('sentiment', inplace = True)\n",
    "    value_counts_df['percentage'] = value_counts_df['percentage'].apply(lambda x: round(x,2))\n",
    "    value_counts_df['Countrie'] = countrie\n",
    "    value_counts_df = value_counts_df.reset_index(drop = True)\n",
    "    return value_counts_df"
   ]
  },
  {
   "cell_type": "code",
   "execution_count": 11,
   "metadata": {},
   "outputs": [],
   "source": [
    "filePath = r'C:\\Users\\ilboudod\\CovidPerception\\Files\\caseManagement.csv'\n",
    "\n",
    "if os.path.exists(filePath):\n",
    "    os.remove(filePath)"
   ]
  },
  {
   "cell_type": "code",
   "execution_count": 12,
   "metadata": {},
   "outputs": [],
   "source": [
    "with open(r'C:\\Users\\ilboudod\\CovidPerception\\Files\\caseManagement.csv','a') as f:\n",
    "    for countrie, code, dt in zip(Countries, CountryCode, dataSet):\n",
    "        try:\n",
    "            data = dt.copy()\n",
    "            data[\"Content\"] = data[['Title', 'Storie']].apply(lambda x: ' '.join(x), axis=1)\n",
    "            data = data[data.Storie.notna()]\n",
    "            data = data[data.Content.notna()]\n",
    "            data['Content_punct'] = data['Content'].apply(lambda x:remove_punct(x.lower()))\n",
    "            data_final = SentimentAnalysisCountry(data, 'Content_punct', 0.05)\n",
    "            nltk_sentiment_df = get_value_counts(data_final, 'nltk_sentiment', code)\n",
    "            f.write(f'Countrie: {countrie}')\n",
    "            f.write(\"\\n\")\n",
    "            nltk_sentiment_df.to_csv(f)\n",
    "            f.write(\"\\n\")\n",
    "        except:\n",
    "            f.write(f'Countrie: {countrie}')\n",
    "            f.write(\"\\n\")\n",
    "            f.write(\"\\n\")"
   ]
  },
  {
   "cell_type": "code",
   "execution_count": 13,
   "metadata": {},
   "outputs": [],
   "source": [
    "data = pd.read_csv(r'C:\\Users\\ilboudod\\CovidPerception\\Files\\caseManagement.csv', \n",
    "                   sep=',', \n",
    "                   encoding='iso-8859-1')\n",
    "#data.head()"
   ]
  },
  {
   "cell_type": "code",
   "execution_count": 14,
   "metadata": {},
   "outputs": [],
   "source": [
    "data = data.reset_index()\n",
    "data = data.set_axis(['Col_0','Col_1', 'Col_2', 'Col_3','Col_4'], axis='columns')\n",
    "data.drop('Col_0',axis=1, inplace=True)\n",
    "#data.head()"
   ]
  },
  {
   "cell_type": "code",
   "execution_count": 15,
   "metadata": {},
   "outputs": [],
   "source": [
    "data.drop_duplicates(keep=False, inplace=True, ignore_index=True)\n",
    "#data.head()"
   ]
  },
  {
   "cell_type": "code",
   "execution_count": 16,
   "metadata": {},
   "outputs": [],
   "source": [
    "data.rename(columns={'Col_1':'Sentiment', 'Col_2':'Counts', \n",
    "                     'Col_3':'Percentage', 'Col_4':'Countries'}, inplace = True)"
   ]
  },
  {
   "cell_type": "code",
   "execution_count": 17,
   "metadata": {},
   "outputs": [],
   "source": [
    "data['Counts'] = pd.to_numeric(data['Counts'])\n",
    "data['Percentage'] = pd.to_numeric(data['Percentage'])"
   ]
  },
  {
   "cell_type": "code",
   "execution_count": 18,
   "metadata": {},
   "outputs": [],
   "source": [
    "Table_counts = pd.pivot_table(data, values = 'Counts', \n",
    "                              index=['Countries'], columns = ['Sentiment'])\n",
    "#Table_counts.head()"
   ]
  },
  {
   "cell_type": "code",
   "execution_count": 19,
   "metadata": {},
   "outputs": [],
   "source": [
    "Table_percentage = pd.pivot_table(data, values = 'Percentage', \n",
    "                                  index=['Countries'], columns = ['Sentiment'])\n",
    "#Table_percentage.head()"
   ]
  },
  {
   "cell_type": "code",
   "execution_count": 20,
   "metadata": {},
   "outputs": [],
   "source": [
    "writer = pd.ExcelWriter(r'C:\\Users\\ilboudod\\CovidPerception\\Output\\caseManagement_counts.xlsx',engine='xlsxwriter')   # Creating Excel Writer Object from Pandas  \n",
    "Table_counts.to_excel(writer,sheet_name='Counts',startrow=0 , startcol=0)   \n",
    "writer.save()"
   ]
  },
  {
   "cell_type": "code",
   "execution_count": 21,
   "metadata": {},
   "outputs": [],
   "source": [
    "writer = pd.ExcelWriter(r'C:\\Users\\ilboudod\\CovidPerception\\Output\\caseManagement_percentage.xlsx',engine='xlsxwriter')   # Creating Excel Writer Object from Pandas  \n",
    "Table_percentage.to_excel(writer,sheet_name='Percentage',startrow=0 , startcol=0)   \n",
    "writer.save()"
   ]
  }
 ],
 "metadata": {
  "kernelspec": {
   "display_name": "Python 3",
   "language": "python",
   "name": "python3"
  },
  "language_info": {
   "codemirror_mode": {
    "name": "ipython",
    "version": 3
   },
   "file_extension": ".py",
   "mimetype": "text/x-python",
   "name": "python",
   "nbconvert_exporter": "python",
   "pygments_lexer": "ipython3",
   "version": "3.8.5"
  }
 },
 "nbformat": 4,
 "nbformat_minor": 4
}
